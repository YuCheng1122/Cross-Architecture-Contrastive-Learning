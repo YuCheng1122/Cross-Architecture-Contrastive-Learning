{
 "cells": [
  {
   "cell_type": "markdown",
   "id": "c0fa1807",
   "metadata": {},
   "source": [
    "Select Detection Dataset"
   ]
  },
  {
   "cell_type": "code",
   "execution_count": null,
   "id": "18f01aa5",
   "metadata": {},
   "outputs": [],
   "source": [
    "import pandas as pd\n",
    "\n",
    "base_csv = \"/home/tommy/Projects/cross-architecture/Experiment3.1/dataset/20250509_merged_deduped.csv\"\n",
    "output_csv = \"detection.csv\"\n",
    "\n",
    "df = pd.read_csv(base_csv)\n",
    "\n",
    "df = df[df[\"CPU\"].isin([\"MIPS R3000\", \"ARM\", ])]\n",
    "\n",
    "result = []\n",
    "for cpu in [\"MIPS R3000\", \"ARM\"]:\n",
    "    cpu_df = df[df[\"CPU\"] == cpu]\n",
    "    benign_df = df[df[\"label\"] == \"benign\"].sample(n=1000, random_state=42)\n",
    "    malware_df = df [df[\"label\"] != \"benign\"].sample(n=1000, random_state=42).copy()\n",
    "    malware_df[\"label\"] = \"malware\"\n",
    "\n",
    "    combined_df = pd.concat([benign_df, malware_df])\n",
    "    result.append(combined_df)\n",
    "\n",
    "final_df = pd.concat(result)\n",
    "final_df = final_df[[\"file_name\", \"CPU\", \"label\"]]\n",
    "final_df.to_csv(output_csv, index=False)\n"
   ]
  },
  {
   "cell_type": "markdown",
   "id": "ba6a1465",
   "metadata": {},
   "source": [
    "Relabel Dataset"
   ]
  },
  {
   "cell_type": "code",
   "execution_count": 1,
   "id": "7250bde4",
   "metadata": {},
   "outputs": [
    {
     "name": "stdout",
     "output_type": "stream",
     "text": [
      "CSV file updated successfully.\n"
     ]
    }
   ],
   "source": [
    "import pandas as pd\n",
    "\n",
    "file_path = \"/home/tommy/Projects/pcodeFcg/dataset/csv/temp/test_mips.csv\"\n",
    "df = pd.read_csv(file_path)\n",
    "df[\"label\"] = df[\"label\"].replace({\"mirai\": \"malware\", \"gafgyt\": \"malware\", \"tsunami\": \"malware\"})\n",
    "new_file_name = \"/home/tommy/Projects/pcodeFcg/dataset/csv/temp/test_mips_detection.csv\"\n",
    "df.to_csv(new_file_name, index=False)\n",
    "print(\"CSV file updated successfully.\")"
   ]
  },
  {
   "cell_type": "code",
   "execution_count": 1,
   "id": "17f09939",
   "metadata": {},
   "outputs": [
    {
     "name": "stdout",
     "output_type": "stream",
     "text": [
      "Reduced CSV files created successfully.\n"
     ]
    }
   ],
   "source": [
    "#just save 450 benign and 450 malware\n",
    "import pandas as pd\n",
    "\n",
    "file_path_train = \"/home/tommy/Projects/pcodeFcg/dataset/csv/temp/train_detection.csv\"\n",
    "file_path_test = \"/home/tommy/Projects/pcodeFcg/dataset/csv/temp/test_detection.csv\"\n",
    "\n",
    "df_train = pd.read_csv(file_path_train)\n",
    "df_test = pd.read_csv(file_path_test)\n",
    "\n",
    "benign_train = df_train[df_train[\"label\"] == \"benign\"].sample(n=450, random_state=42)\n",
    "malware_train = df_train[df_train[\"label\"] == \"malware\"].sample(n=450, random_state=42)\n",
    "reduced_train = pd.concat([benign_train, malware_train])\n",
    "reduced_train.to_csv(\"/home/tommy/Projects/pcodeFcg/dataset/csv/temp/train_detection_reduced.csv\", index=False)\n",
    "benign_test = df_test[df_test[\"label\"] == \"benign\"].sample(n=450, random_state=42)\n",
    "malware_test = df_test[df_test[\"label\"] == \"malware\"].sample(n=450, random_state=42)\n",
    "reduced_test = pd.concat([benign_test, malware_test])\n",
    "reduced_test.to_csv(\"/home/tommy/Projects/pcodeFcg/dataset/csv/temp/test_detection_reduced.csv\", index=False)\n",
    "print(\"Reduced CSV files created successfully.\")\n"
   ]
  }
 ],
 "metadata": {
  "kernelspec": {
   "display_name": "cross-architecture",
   "language": "python",
   "name": "python3"
  },
  "language_info": {
   "codemirror_mode": {
    "name": "ipython",
    "version": 3
   },
   "file_extension": ".py",
   "mimetype": "text/x-python",
   "name": "python",
   "nbconvert_exporter": "python",
   "pygments_lexer": "ipython3",
   "version": "3.12.8"
  }
 },
 "nbformat": 4,
 "nbformat_minor": 5
}
