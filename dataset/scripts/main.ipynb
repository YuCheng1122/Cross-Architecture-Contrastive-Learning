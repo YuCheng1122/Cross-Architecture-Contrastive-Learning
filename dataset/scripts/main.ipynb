{
 "cells": [
  {
   "cell_type": "markdown",
   "id": "c0fa1807",
   "metadata": {},
   "source": [
    "Select Detection Dataset"
   ]
  },
  {
   "cell_type": "code",
   "execution_count": null,
   "id": "18f01aa5",
   "metadata": {},
   "outputs": [],
   "source": [
    "import pandas as pd\n",
    "\n",
    "base_csv = \"/home/tommy/Projects/cross-architecture/Experiment3.1/dataset/20250509_merged_deduped.csv\"\n",
    "output_csv = \"detection.csv\"\n",
    "\n",
    "df = pd.read_csv(base_csv)\n",
    "\n",
    "df = df[df[\"CPU\"].isin([\"MIPS R3000\", \"ARM\"])]\n",
    "\n",
    "result = []\n",
    "for cpu in [\"MIPS R3000\", \"ARM\"]:\n",
    "    cpu_df = df[df[\"CPU\"] == cpu]\n",
    "    benign_df = df[df[\"label\"] == \"benign\"].sample(n=1000, random_state=42)\n",
    "    malware_df = df [df[\"label\"] != \"benign\"].sample(n=1000, random_state=42).copy()\n",
    "    malware_df[\"label\"] = \"malware\"\n",
    "\n",
    "    combined_df = pd.concat([benign_df, malware_df])\n",
    "    result.append(combined_df)\n",
    "\n",
    "final_df = pd.concat(result)\n",
    "final_df = final_df[[\"file_name\", \"CPU\", \"label\"]]\n",
    "final_df.to_csv(output_csv, index=False)\n"
   ]
  }
 ],
 "metadata": {
  "kernelspec": {
   "display_name": "cross-architecture",
   "language": "python",
   "name": "python3"
  },
  "language_info": {
   "codemirror_mode": {
    "name": "ipython",
    "version": 3
   },
   "file_extension": ".py",
   "mimetype": "text/x-python",
   "name": "python",
   "nbconvert_exporter": "python",
   "pygments_lexer": "ipython3",
   "version": "3.12.8"
  }
 },
 "nbformat": 4,
 "nbformat_minor": 5
}
