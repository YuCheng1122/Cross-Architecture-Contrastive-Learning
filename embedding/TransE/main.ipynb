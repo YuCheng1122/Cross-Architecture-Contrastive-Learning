{
 "cells": [
  {
   "cell_type": "markdown",
   "id": "aaadfcc2",
   "metadata": {},
   "source": [
    "Normalize Json file"
   ]
  },
  {
   "cell_type": "code",
   "execution_count": null,
   "id": "a394b85a",
   "metadata": {},
   "outputs": [],
   "source": [
    "from pathlib import Path\n",
    "from typing import Generator, Tuple, Dict\n",
    "import json\n",
    "import pandas as pd\n",
    "from tqdm import tqdm\n",
    "\n",
    "def iterate_json_files(csv_file_path: str | Path, root_dir: str | Path) -> Generator[Tuple[Path, Dict], None, None]:\n",
    "    root_path = Path(root_dir)\n",
    "    \n",
    "    df = pd.read_csv(csv_file_path)\n",
    "    file_names = df[\"file_name\"].tolist()  \n",
    "    \n",
    "    for file_name in tqdm(file_names, desc=\"Processing JSON files\"):\n",
    "        json_path = root_path / file_name / f\"{file_name}.json\"\n",
    "\n",
    "        if json_path.exists():\n",
    "            try:\n",
    "                with json_path.open(encoding=\"utf-8\") as fp:\n",
    "                    yield json_path, json.load(fp)\n",
    "            except json.JSONDecodeError:\n",
    "                print(f\"Error decoding JSON: {json_path}\")\n",
    "        else:\n",
    "            print(f\"File not found: {json_path}\")"
   ]
  }
 ],
 "metadata": {
  "kernelspec": {
   "display_name": "cross-architecture",
   "language": "python",
   "name": "python3"
  },
  "language_info": {
   "name": "python",
   "version": "3.12.8"
  }
 },
 "nbformat": 4,
 "nbformat_minor": 5
}
