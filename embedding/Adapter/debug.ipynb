{
 "cells": [
  {
   "cell_type": "code",
   "execution_count": null,
   "id": "49a34619",
   "metadata": {},
   "outputs": [
    {
     "name": "stdout",
     "output_type": "stream",
     "text": [
      "Loaded 66607 items from /home/tommy/Projects/pcodeFcg/dataset/alignment_vector/train_arm_vector_Os.pickle\n",
      "Tuple 長度: 3\n",
      "  元素 0 型別: <class 'numpy.ndarray'>\n",
      "  元素 1 型別: <class 'numpy.ndarray'>\n",
      "  元素 2 型別: <class 'int'>\n"
     ]
    }
   ],
   "source": [
    "import pickle\n",
    "\n",
    "file_path = \"/home/tommy/Projects/pcodeFcg/dataset/alignment_vector/train_arm_vector_Os.pickle\"\n",
    "\n",
    "with open(file_path, \"rb\") as f:\n",
    "    data = pickle.load(f)\n",
    "\n",
    "print(f\"Loaded {len(data)} items from {file_path}\")\n",
    "first_item = data[0]\n",
    "if isinstance(first_item, tuple):\n",
    "    print(\"Tuple 長度:\", len(first_item))\n",
    "    for i, v in enumerate(first_item):\n",
    "        print(f\"  元素 {i} 型別:\", type(v))\n",
    "elif isinstance(first_item, dict):\n",
    "    print(\"Keys:\", first_item.keys())\n",
    "\n",
    "\n"
   ]
  },
  {
   "cell_type": "code",
   "execution_count": null,
   "id": "f54ee2a3",
   "metadata": {},
   "outputs": [
    {
     "name": "stderr",
     "output_type": "stream",
     "text": [
      "計算中: 100%|██████████| 57494/57494 [00:02<00:00, 23177.31it/s]"
     ]
    },
    {
     "name": "stdout",
     "output_type": "stream",
     "text": [
      "平均 similarity score: 0.4903\n"
     ]
    },
    {
     "name": "stderr",
     "output_type": "stream",
     "text": [
      "\n"
     ]
    }
   ],
   "source": [
    "import pickle\n",
    "import torch\n",
    "import numpy as np\n",
    "from tqdm import tqdm\n",
    "\n",
    "# === 載入資料 ===\n",
    "path = \"/home/tommy/Projects/pcodeFcg/dataset/alignment_vector/train_arm_vector.pickle\"\n",
    "with open(path, \"rb\") as f:\n",
    "    data = pickle.load(f)\n",
    "\n",
    "device = torch.device(\"cuda\" if torch.cuda.is_available() else \"cpu\")\n",
    "\n",
    "# === 定義 similarity 函式 ===\n",
    "def similarity_score(x1, x2):\n",
    "    dist = torch.norm(x1 - x2, dim=1)  \n",
    "    return 1 / (1 + dist)             \n",
    "\n",
    "# === 批次計算平均 similarity ===\n",
    "scores = []\n",
    "for v1, v2, _ in tqdm(data, desc=\"計算中\"):\n",
    "    t1 = torch.tensor(v1, dtype=torch.float32, device=device).unsqueeze(0)\n",
    "    t2 = torch.tensor(v2, dtype=torch.float32, device=device).unsqueeze(0)\n",
    "\n",
    "    score = similarity_score(t1, t2)\n",
    "    scores.append(score.item())\n",
    "\n",
    "avg_score = np.mean(scores)\n",
    "print(f\"平均 similarity score: {avg_score:.4f}\")\n"
   ]
  },
  {
   "cell_type": "code",
   "execution_count": 17,
   "id": "b6aad6e0",
   "metadata": {},
   "outputs": [
    {
     "name": "stdout",
     "output_type": "stream",
     "text": [
      "Label: 1\n",
      "Similarity score: 1.0000\n"
     ]
    }
   ],
   "source": [
    "path = \"/home/tommy/Projects/pcodeFcg/dataset/alignment_vector/train_arm_vector.pickle\"\n",
    "with open(path, \"rb\") as f:\n",
    "    data = pickle.load(f)\n",
    "\n",
    "device = torch.device(\"cuda\" if torch.cuda.is_available() else \"cpu\")\n",
    "\n",
    "check = data[21]\n",
    "\n",
    "v1, v2, label = check\n",
    "print(\"Label:\", label)\n",
    "t1 = torch.tensor(v1, dtype=torch.float32, device=device).unsqueeze(0)\n",
    "t2 = torch.tensor(v2, dtype=torch.float32, device=device).unsqueeze(0)\n",
    "check_score = similarity_score(t1, t2)\n",
    "print(f\"Similarity score: {check_score.item():.4f}\")"
   ]
  },
  {
   "cell_type": "code",
   "execution_count": 4,
   "id": "96ea4ed3",
   "metadata": {},
   "outputs": [
    {
     "name": "stderr",
     "output_type": "stream",
     "text": [
      "計算相似度:   0%|          | 0/57494 [00:00<?, ?it/s]"
     ]
    },
    {
     "name": "stderr",
     "output_type": "stream",
     "text": [
      "計算相似度: 100%|██████████| 57494/57494 [00:02<00:00, 23368.15it/s]\n"
     ]
    },
    {
     "name": "stdout",
     "output_type": "stream",
     "text": [
      "[INFO] 原始樣本數: 57494\n",
      "[INFO] 新資料集樣本數: 57494\n",
      "[INFO] 已儲存至: /home/tommy/Projects/pcodeFcg/dataset/alignment_vector/train_arm_vector_posneg_mixed.pickle\n"
     ]
    }
   ],
   "source": [
    "import pickle\n",
    "import torch\n",
    "import numpy as np\n",
    "import random\n",
    "from tqdm import tqdm\n",
    "\n",
    "# === 載入資料 ===\n",
    "input_path = \"/home/tommy/Projects/pcodeFcg/dataset/alignment_vector/train_arm_vector_mix.pickle\"\n",
    "output_path = \"/home/tommy/Projects/pcodeFcg/dataset/alignment_vector/train_arm_vector_posneg_mixed.pickle\"\n",
    "\n",
    "with open(input_path, \"rb\") as f:\n",
    "    data = pickle.load(f)\n",
    "\n",
    "device = torch.device(\"cuda\" if torch.cuda.is_available() else \"cpu\")\n",
    "\n",
    "# === similarity 函式 ===\n",
    "def similarity_score(x1, x2):\n",
    "    dist = torch.norm(x1 - x2, dim=1)  # L2 distance\n",
    "    return 1 / (1 + dist)\n",
    "\n",
    "# === 計算所有 similarity score ===\n",
    "scored_data = []\n",
    "for v1, v2, label in tqdm(data, desc=\"計算相似度\"):\n",
    "    t1 = torch.tensor(v1, dtype=torch.float32, device=device).unsqueeze(0)\n",
    "    t2 = torch.tensor(v2, dtype=torch.float32, device=device).unsqueeze(0)\n",
    "    score = similarity_score(t1, t2).item()\n",
    "    scored_data.append((v1, v2, label, score))\n",
    "\n",
    "# === 依照相似度排序 ===\n",
    "scored_data.sort(key=lambda x: x[3], reverse=True)\n",
    "\n",
    "# === 分成兩半 ===\n",
    "half = len(scored_data) // 2\n",
    "positive_samples = [(v1, v2, 1) for v1, v2, _, _ in scored_data[:half]]\n",
    "negative_candidates = [ (v1, v2) for v1, v2, _, _ in scored_data[half:] ]\n",
    "\n",
    "# === 打亂後配對建立負樣本 ===\n",
    "all_vec1 = [v1 for v1, _ in negative_candidates]\n",
    "all_vec2 = [v2 for _, v2 in negative_candidates]\n",
    "random.shuffle(all_vec2)\n",
    "\n",
    "negative_samples = [(v1, v2, 0) for v1, v2 in zip(all_vec1, all_vec2)]\n",
    "\n",
    "# === 合併正負樣本 ===\n",
    "final_dataset = positive_samples + negative_samples\n",
    "random.shuffle(final_dataset)\n",
    "\n",
    "# === 儲存 ===\n",
    "with open(output_path, \"wb\") as f:\n",
    "    pickle.dump(final_dataset, f)\n",
    "\n",
    "print(f\"[INFO] 原始樣本數: {len(data)}\")\n",
    "print(f\"[INFO] 新資料集樣本數: {len(final_dataset)}\")\n",
    "print(f\"[INFO] 已儲存至: {output_path}\")\n"
   ]
  },
  {
   "cell_type": "code",
   "execution_count": null,
   "id": "ebf013d1",
   "metadata": {},
   "outputs": [
    {
     "name": "stdout",
     "output_type": "stream",
     "text": [
      "Label distribution: Counter({0: 33304, 1: 33303})\n",
      "Positive pair similarity score: 0.6704\n",
      "Negative pair similarity score: 0.1096\n"
     ]
    }
   ],
   "source": [
    "#check label 1 and label 0 simiarity score\n",
    "import pickle \n",
    "\n",
    "with open(\"/home/tommy/Projects/pcodeFcg/dataset/alignment_vector/train_arm_vector_posneg_mixed.pickle\", \"rb\") as f:\n",
    "    data = pickle.load(f)\n",
    "\n",
    "#check label distribution\n",
    "from collections import Counter\n",
    "labels = [label for _, _, label in data]\n",
    "label_counts = Counter(labels)\n",
    "print(\"Label distribution:\", label_counts)\n",
    "\n",
    "for v1, v2, label in data:\n",
    "    if label == 1:\n",
    "        t1 = torch.tensor(v1, dtype=torch.float32, device=device).unsqueeze(0)\n",
    "        t2 = torch.tensor(v2, dtype=torch.float32, device=device).unsqueeze(0)\n",
    "        pos_score = similarity_score(t1, t2)\n",
    "        print(f\"Positive pair similarity score: {pos_score.item():.4f}\")\n",
    "        break\n",
    "for v1, v2, label in data:\n",
    "    if label == 0:\n",
    "        t1 = torch.tensor(v1, dtype=torch.float32, device=device).unsqueeze(0)\n",
    "        t2 = torch.tensor(v2, dtype=torch.float32, device=device).unsqueeze(0)\n",
    "        neg_score = similarity_score(t1, t2)\n",
    "        print(f\"Negative pair similarity score: {neg_score.item():.4f}\")\n",
    "        break\n",
    "\n",
    "    "
   ]
  }
 ],
 "metadata": {
  "kernelspec": {
   "display_name": "cross-architecture",
   "language": "python",
   "name": "python3"
  },
  "language_info": {
   "codemirror_mode": {
    "name": "ipython",
    "version": 3
   },
   "file_extension": ".py",
   "mimetype": "text/x-python",
   "name": "python",
   "nbconvert_exporter": "python",
   "pygments_lexer": "ipython3",
   "version": "3.12.8"
  }
 },
 "nbformat": 4,
 "nbformat_minor": 5
}
