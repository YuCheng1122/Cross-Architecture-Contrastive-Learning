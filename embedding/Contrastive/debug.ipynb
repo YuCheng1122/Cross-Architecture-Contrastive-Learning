{
 "cells": [
  {
   "cell_type": "markdown",
   "id": "1fa4c6a6",
   "metadata": {},
   "source": [
    "Check npy format"
   ]
  },
  {
   "cell_type": "code",
   "execution_count": null,
   "id": "6c3fcc9c",
   "metadata": {},
   "outputs": [],
   "source": [
    "import numpy as np\n",
    "file_path = \"/home/tommy/Projects/pcodeFcg/vector/contrastive/resnet/X_arm.npy\"\n",
    "data = np.load(file_path)\n",
    "\n",
    "print(data.shape)\n",
    "\n",
    "print(data[:5])"
   ]
  },
  {
   "cell_type": "code",
   "execution_count": null,
   "id": "2400fe55",
   "metadata": {},
   "outputs": [],
   "source": [
    "mips_data = np.load(\"/home/tommy/Projects/pcodeFcg/vector/contrastive/resnet/X_mips.npy\")\n",
    "print(mips_data.shape)"
   ]
  },
  {
   "cell_type": "code",
   "execution_count": null,
   "id": "b8b8209f",
   "metadata": {},
   "outputs": [],
   "source": [
    "label = np.load(\"/home/tommy/Projects/pcodeFcg/vector/contrastive/resnet/y.npy\")\n",
    "\n",
    "print(label.shape)\n",
    "print(label[:10])\n",
    "print(label[40000:40010])"
   ]
  },
  {
   "cell_type": "code",
   "execution_count": null,
   "id": "924bc1ab",
   "metadata": {},
   "outputs": [],
   "source": [
    "import pickle \n",
    "\n",
    "file_path = \"/home/tommy/Projects/pcodeFcg/vector/contrastive/word2vec/CBOW/sentences_train.pkl\"\n",
    "\n",
    "with open(file_path, 'rb') as f:\n",
    "    sentences = pickle.load(f)\n",
    "\n",
    "print(len(sentences))"
   ]
  },
  {
   "cell_type": "markdown",
   "id": "e0e845a7",
   "metadata": {},
   "source": [
    "Check npy similarity"
   ]
  },
  {
   "cell_type": "code",
   "execution_count": 10,
   "id": "d927cd06",
   "metadata": {},
   "outputs": [
    {
     "name": "stdout",
     "output_type": "stream",
     "text": [
      "ARM shape: (22119, 256)\n",
      "x86 shape: (22119, 256)\n",
      "Label shape: (22119,)\n",
      "ARM first 5 vectors: [[ 8.2690967e-04 -1.0663398e-03 -7.6523237e-04 ...  6.4992113e-05\n",
      "   8.1985537e-04  6.0439383e-05]\n",
      " [ 2.5329064e-03 -2.1999115e-03  5.1784003e-04 ... -2.4773190e-03\n",
      "   3.9047841e-03 -3.3722823e-03]\n",
      " [-6.9914960e-05 -1.3632157e-03 -6.8722075e-05 ... -5.9428352e-05\n",
      "   9.6438429e-04  4.3566377e-04]\n",
      " [ 2.5329064e-03 -2.1999115e-03  5.1784003e-04 ... -2.4773190e-03\n",
      "   3.9047841e-03 -3.3722823e-03]\n",
      " [ 2.0768049e-03 -1.0403584e-03 -6.7534682e-04 ... -1.3996513e-03\n",
      "   2.9023981e-04 -1.3352833e-03]]\n",
      "x86 first 5 vectors: [[ 2.5923559e-04 -1.4290018e-03 -9.3509363e-05 ...  5.9786270e-04\n",
      "   6.2040339e-04 -2.5504397e-04]\n",
      " [ 2.5329064e-03 -2.1999115e-03  5.1784003e-04 ... -2.4773190e-03\n",
      "   3.9047841e-03 -3.3722823e-03]\n",
      " [-5.5855548e-04  9.7668730e-05  1.3857879e-03 ...  2.8943561e-04\n",
      "   1.4697339e-03 -1.6440039e-03]\n",
      " [ 2.2104110e-03  2.3895921e-04  2.0589645e-03 ... -2.7211525e-03\n",
      "   2.8053937e-03 -3.4100977e-03]\n",
      " [ 2.0768049e-03 -1.0403584e-03 -6.7534682e-04 ... -1.3996513e-03\n",
      "   2.9023981e-04 -1.3352833e-03]]\n",
      "Labels first 10: [1 1 1 1 1 1 1 1 1 1]\n"
     ]
    }
   ],
   "source": [
    "import torch\n",
    "import numpy as np\n",
    "\n",
    "def similarity_score(x_arm, x_mapped):\n",
    "    # Eq.(7): s = 1 / (1 + ||arm - mapped||_2)\n",
    "    dist = torch.norm(x_arm - x_mapped, p=2, dim=1)  # [B]\n",
    "    return 1.0 / (1.0 + dist)\n",
    "\n",
    "\n",
    "arm_path = \"/home/tommy/Projects/pcodeFcg/vector/contrastive/resnet/X_arm.npy\"\n",
    "x86_path = \"/home/tommy/Projects/pcodeFcg/vector/contrastive/resnet/X_x86.npy\"\n",
    "label_path = \"/home/tommy/Projects/pcodeFcg/vector/contrastive/resnet/y.npy\"\n",
    "\n",
    "arm_np = np.load(arm_path)\n",
    "x86_np = np.load(x86_path)\n",
    "label_np = np.load(label_path)\n",
    "\n",
    "#check npy contents\n",
    "\n",
    "print(\"ARM shape:\", arm_np.shape)\n",
    "print(\"x86 shape:\", x86_np.shape)\n",
    "print(\"Label shape:\", label_np.shape)\n",
    "\n",
    "\n",
    "print(\"ARM first 5 vectors:\", arm_np[:5])\n",
    "print(\"x86 first 5 vectors:\", x86_np[:5])\n",
    "print(\"Labels first 10:\", label_np[:10])\n",
    "\n"
   ]
  },
  {
   "cell_type": "code",
   "execution_count": null,
   "id": "5a9f01eb",
   "metadata": {},
   "outputs": [],
   "source": [
    "import random\n",
    "import numpy as np\n",
    "import pandas as pd\n",
    "from gensim.models import Word2Vec\n",
    "from sklearn.metrics.pairwise import cosine_similarity\n",
    "\n",
    "# 路徑\n",
    "arm_csv  = \"/home/tommy/Projects/pcodeFcg/dataset/alignment/arm_32_alignment.csv\"\n",
    "mips_csv = \"/home/tommy/Projects/pcodeFcg/dataset/alignment/mips_32_alignment.csv\"\n",
    "w2v_path  = \"/home/tommy/Projects/pcodeFcg/vector/contrastive/word2vec/CBOW/word2vec.model\"\n",
    "\n",
    "# 讀檔\n",
    "df_arm  = pd.read_csv(arm_csv)   # 欄位：file_name,function_name,pcode,label\n",
    "df_mips = pd.read_csv(mips_csv)\n",
    "w2v     = Word2Vec.load(w2v_path)\n",
    "\n",
    "# 前 5 筆同列比對（ARM vs MIPS row-wise）\n",
    "print(\"=== 同一列前 5 筆 Cosine Similarity ===\")\n",
    "for i in range(5):\n",
    "    toks_arm  = str(df_arm.loc[i, \"pcode\"]).split()\n",
    "    toks_mips = str(df_mips.loc[i, \"pcode\"]).split()\n",
    "    vec_arm   = np.mean([w2v.wv[t] for t in toks_arm  if t in w2v.wv] or [np.zeros(w2v.vector_size)], axis=0)\n",
    "    vec_mips  = np.mean([w2v.wv[t] for t in toks_mips if t in w2v.wv] or [np.zeros(w2v.vector_size)], axis=0)\n",
    "    sim        = cosine_similarity(vec_arm.reshape(1,-1), vec_mips.reshape(1,-1))[0,0]\n",
    "    print(f\"Row {i}: {sim:.4f}\")\n",
    "\n",
    "# 隨機 5 筆不同行比對（ARM row i vs MIPS row j, i != j）\n",
    "print(\"\\n=== 隨機 5 筆不同行 Cosine Similarity ===\")\n",
    "n = len(df_arm)\n",
    "pairs = set()\n",
    "while len(pairs) < 5:\n",
    "    i = random.randrange(n)\n",
    "    j = random.randrange(n)\n",
    "    if i != j:\n",
    "        pairs.add((i, j))\n",
    "\n",
    "for i, j in pairs:\n",
    "    toks_arm  = str(df_arm.loc[i, \"pcode\"]).split()\n",
    "    toks_mips = str(df_mips.loc[j, \"pcode\"]).split()\n",
    "    vec_arm   = np.mean([w2v.wv[t] for t in toks_arm  if t in w2v.wv] or [np.zeros(w2v.vector_size)], axis=0)\n",
    "    vec_mips  = np.mean([w2v.wv[t] for t in toks_mips if t in w2v.wv] or [np.zeros(w2v.vector_size)], axis=0)\n",
    "    sim        = cosine_similarity(vec_arm.reshape(1,-1), vec_mips.reshape(1,-1))[0,0]\n",
    "    print(f\"ARM row {i} vs MIPS row {j}: {sim:.4f}\")\n"
   ]
  },
  {
   "cell_type": "code",
   "execution_count": null,
   "id": "673c44d6",
   "metadata": {},
   "outputs": [],
   "source": [
    "import os\n",
    "import pickle\n",
    "import torch\n",
    "import networkx as nx\n",
    "\n",
    "# 1. 載入你訓練好的 Adapter\n",
    "from model import Adapter  \n",
    "ckpt = torch.load(\n",
    "    '/home/tommy/Projects/pcodeFcg/vector/contrastive/resnet/simsiam_adapter.pth',\n",
    "    map_location='cpu'\n",
    ")\n",
    "state_dict = ckpt.get('state_dict', ckpt)\n",
    "adapter_state = {\n",
    "    k[len('backbone.'):]: v\n",
    "    for k, v in state_dict.items()\n",
    "    if k.startswith('backbone.adapter.')\n",
    "}\n",
    "adapter = Adapter(dim=256, num_blocks=2)\n",
    "adapter.load_state_dict(adapter_state, strict=False)\n",
    "adapter.eval()\n",
    "\n",
    "# 2. 指定單一對應檔案路徑\n",
    "path_src = '/home/tommy/Projects/pcodeFcg/vector/contrastive/GNN/train/0b/0b61ed19ec8d9450268020524aae18ff68071164042097c346afe9085b72135d.gpickle'\n",
    "path_tgt = '/home/tommy/Projects/pcodeFcg/vector/contrastive/GNN/test/0a/0a3eab21fff9e3edbb22861e6d1c461dee66e36cc2f0010602eaff0496ed8271.gpickle'\n",
    "\n",
    "# 3. 讀入圖\n",
    "with open(path_src, 'rb') as f:\n",
    "    G_src = pickle.load(f)\n",
    "    print(G_src)\n",
    "    for node in G_src.nodes():\n",
    "        print(G_src.nodes[node]['vector'])\n",
    "with open(path_tgt, 'rb') as f:\n",
    "    G_tgt = pickle.load(f)\n",
    "    print(G_tgt)\n",
    "\n",
    "# 4. 比較每個 node\n",
    "print(f'Comparing {os.path.basename(path_src)} → {os.path.basename(path_tgt)}\\n')\n",
    "print('Node\\tOrigDist\\tMappedDist')\n",
    "for node in G_src.nodes():\n",
    "    if node not in G_tgt:\n",
    "        continue\n",
    "    x_src = torch.tensor(G_src.nodes[node]['vector'], dtype=torch.float32)\n",
    "    x_tgt = torch.tensor(G_tgt.nodes[node]['vector'], dtype=torch.float32)\n",
    "    # 原始距離\n",
    "    d_orig = torch.dist(x_src, x_tgt).item()\n",
    "    # 經 adapter 映射後距離\n",
    "    x_mapped = adapter(x_src.unsqueeze(0)).squeeze(0)\n",
    "    d_mapped = torch.dist(x_mapped, x_tgt).item()\n",
    "    print(f'{node}\\t{d_orig:.4f}\\t{d_mapped:.4f}')\n"
   ]
  },
  {
   "cell_type": "code",
   "execution_count": 3,
   "id": "37e14073",
   "metadata": {},
   "outputs": [
    {
     "name": "stdout",
     "output_type": "stream",
     "text": [
      "Data loaded from /home/tommy/Projects/pcodeFcg/dataset/alignment/train.pickle, length: 22119\n",
      "[('INT_NOTEQUAL-REG-MEM-CONST CBRANCH-MEM-REG CALL-MEM INDIRECT-MEM-MEM-CONST INDIRECT-MEM-MEM-CONST COPY-MEM-CONST RETURN-CONST COPY-MEM-MEM COPY-MEM-MEM RETURN-CONST COPY-MEM-MEM COPY-MEM-MEM', 'COPY-UNIQUE-MEM LOAD-UNIQUE-CONST-MEM INT_NOTEQUAL-REG-UNIQUE-CONST CBRANCH-MEM-REG RETURN-CONST COPY-MEM-MEM CALL-MEM INDIRECT-MEM-MEM-CONST STORE-CONST-UNIQUE-CONST INDIRECT-MEM-MEM-CONST RETURN-CONST COPY-MEM-MEM', 1)]\n"
     ]
    }
   ],
   "source": [
    "import pickle\n",
    "\n",
    "file_path = \"/home/tommy/Projects/pcodeFcg/dataset/alignment/train.pickle\"\n",
    "\n",
    "with open(file_path, 'rb') as f:\n",
    "    data = pickle.load(f)\n",
    "\n",
    "print(f\"Data loaded from {file_path}, length: {len(data)}\")\n",
    "print(data[:1])  # Print first 5 items to verify structure\n"
   ]
  }
 ],
 "metadata": {
  "kernelspec": {
   "display_name": "cross-architecture",
   "language": "python",
   "name": "python3"
  },
  "language_info": {
   "codemirror_mode": {
    "name": "ipython",
    "version": 3
   },
   "file_extension": ".py",
   "mimetype": "text/x-python",
   "name": "python",
   "nbconvert_exporter": "python",
   "pygments_lexer": "ipython3",
   "version": "3.12.8"
  }
 },
 "nbformat": 4,
 "nbformat_minor": 5
}
