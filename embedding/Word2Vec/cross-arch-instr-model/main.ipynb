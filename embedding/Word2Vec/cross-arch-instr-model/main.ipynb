{
 "cells": [
  {
   "cell_type": "markdown",
   "id": "9136bed6",
   "metadata": {},
   "source": [
    "Clean Alignment Data"
   ]
  },
  {
   "cell_type": "code",
   "execution_count": 20,
   "id": "8f2ad842",
   "metadata": {},
   "outputs": [
    {
     "name": "stdout",
     "output_type": "stream",
     "text": [
      "Error reading /home/tommy/Projects/pcodeFcg/document/copied_binaries_Os_output/results/glpk-5.0_gcc-9.4.0_mips_32_Os_libglpk.so.40.3.1/glpk-5.0_gcc-9.4.0_mips_32_Os_libglpk.so.40.3.1.json: Expecting property name enclosed in double quotes: line 1193205 column 4 (char 49979392)\n",
      "Generated /home/tommy/Projects/pcodeFcg/embedding/Word2Vec/data/arm_32_opcodes.txt with 82881 functions\n",
      "Generated /home/tommy/Projects/pcodeFcg/embedding/Word2Vec/data/mips_32_opcodes.txt with 82252 functions\n",
      "Generated aligned /home/tommy/Projects/pcodeFcg/embedding/Word2Vec/data/arm_32_opcodes_aligned.txt with 67647 common functions\n",
      "Generated aligned /home/tommy/Projects/pcodeFcg/embedding/Word2Vec/data/mips_32_opcodes_aligned.txt with 67647 common functions\n"
     ]
    }
   ],
   "source": [
    "import os\n",
    "import json\n",
    "from collections import defaultdict\n",
    "\n",
    "folder_path = \"/home/tommy/Projects/pcodeFcg/document/copied_binaries_Os_output/results\"\n",
    "output_path = \"/home/tommy/Projects/pcodeFcg/embedding/Word2Vec/data\"\n",
    "archs = [\"arm_32\", \"mips_32\"]\n",
    "\n",
    "# 儲存每個架構的函數資料\n",
    "arch_data = {arch: defaultdict(dict) for arch in archs}\n",
    "\n",
    "# 遍歷所有子資料夾\n",
    "for root, dirs, files in os.walk(folder_path):\n",
    "    for json_file in files:\n",
    "        if json_file.endswith('.json'):\n",
    "            # 取得子資料夾名稱\n",
    "            subfolder = os.path.basename(root)\n",
    "            \n",
    "            # 判斷架構\n",
    "            arch = None\n",
    "            for arch_name in archs:\n",
    "                if arch_name in subfolder:\n",
    "                    arch = arch_name\n",
    "                    break\n",
    "            \n",
    "            if arch is None:\n",
    "                continue\n",
    "            \n",
    "            # 提取 fileName (以 \"_\" 分割的最後區塊)\n",
    "            fileName = subfolder.split(\"_\")[-1]\n",
    "            \n",
    "            # 讀取 JSON 檔案\n",
    "            json_path = os.path.join(root, json_file)\n",
    "            try:\n",
    "                with open(json_path, 'r', encoding='utf-8') as f:\n",
    "                    data = json.load(f)\n",
    "                \n",
    "                # 處理每個函數\n",
    "                for func_addr, func_data in data.items():\n",
    "                    function_name = func_data.get('function_name', '')\n",
    "                    instructions = func_data.get('instructions', [])\n",
    "                    \n",
    "                    # 提取所有 opcode\n",
    "                    opcodes = [instr.get('opcode', '') for instr in instructions]\n",
    "                    opcodes_str = ' '.join(opcodes)\n",
    "                    \n",
    "                    # 儲存到對應架構的資料結構中\n",
    "                    if function_name:\n",
    "                        key = f\"{fileName}_{function_name}\"\n",
    "                        arch_data[arch][key] = opcodes_str\n",
    "            \n",
    "            except Exception as e:\n",
    "                print(f\"Error reading {json_path}: {e}\")\n",
    "\n",
    "# 確保輸出目錄存在\n",
    "os.makedirs(output_path, exist_ok=True)\n",
    "\n",
    "# 為每個架構生成 txt 檔案\n",
    "for arch in archs:\n",
    "    output_file = os.path.join(output_path, f\"{arch}_opcodes.txt\")\n",
    "    \n",
    "    with open(output_file, 'w', encoding='utf-8') as f:\n",
    "        # 按照 key 排序以確保一致性\n",
    "        for key in sorted(arch_data[arch].keys()):\n",
    "            opcodes = arch_data[arch][key]\n",
    "            f.write(f\"{opcodes}\\n\")\n",
    "    \n",
    "    print(f\"Generated {output_file} with {len(arch_data[arch])} functions\")\n",
    "\n",
    "# 生成對齊的檔案（只包含兩個架構都有的函數）\n",
    "common_keys = set(arch_data[archs[0]].keys()) & set(arch_data[archs[1]].keys())\n",
    "\n",
    "if common_keys:\n",
    "    for arch in archs:\n",
    "        aligned_output_file = os.path.join(output_path, f\"{arch}_opcodes_aligned.txt\")\n",
    "        \n",
    "        with open(aligned_output_file, 'w', encoding='utf-8') as f:\n",
    "            for key in sorted(common_keys):\n",
    "                opcodes = arch_data[arch][key]\n",
    "                f.write(f\"{opcodes}\\n\")\n",
    "        \n",
    "        print(f\"Generated aligned {aligned_output_file} with {len(common_keys)} common functions\")\n"
   ]
  }
 ],
 "metadata": {
  "kernelspec": {
   "display_name": "cross-architecture",
   "language": "python",
   "name": "python3"
  },
  "language_info": {
   "codemirror_mode": {
    "name": "ipython",
    "version": 3
   },
   "file_extension": ".py",
   "mimetype": "text/x-python",
   "name": "python",
   "nbconvert_exporter": "python",
   "pygments_lexer": "ipython3",
   "version": "3.12.8"
  }
 },
 "nbformat": 4,
 "nbformat_minor": 5
}
